{
 "cells": [
  {
   "attachments": {},
   "cell_type": "markdown",
   "metadata": {},
   "source": [
    "## Import Libraries"
   ]
  },
  {
   "cell_type": "code",
   "execution_count": 1,
   "metadata": {},
   "outputs": [
    {
     "name": "stderr",
     "output_type": "stream",
     "text": [
      "c:\\Users\\ARCH GLOBAL\\miniconda3\\envs\\idp_project\\lib\\site-packages\\tqdm\\auto.py:22: TqdmWarning: IProgress not found. Please update jupyter and ipywidgets. See https://ipywidgets.readthedocs.io/en/stable/user_install.html\n",
      "  from .autonotebook import tqdm as notebook_tqdm\n",
      "Downloading https://raw.githubusercontent.com/stanfordnlp/stanza-resources/main/resources_1.4.1.json: 193kB [00:00, 2.68MB/s]                    \n",
      "2022-12-20 08:53:55 INFO: Downloading default packages for language: multilingual (multilingual) ...\n",
      "2022-12-20 08:53:55 INFO: File exists: C:\\Users\\ARCH GLOBAL\\stanza_resources\\multilingual\\default.zip\n",
      "2022-12-20 08:53:55 INFO: Finished downloading models and saved to C:\\Users\\ARCH GLOBAL\\stanza_resources.\n",
      "Downloading https://raw.githubusercontent.com/stanfordnlp/stanza-resources/main/resources_1.4.1.json: 193kB [00:00, ?B/s]                        \n",
      "2022-12-20 08:53:55 INFO: Downloading default packages for language: nl (Dutch) ...\n",
      "2022-12-20 08:54:00 INFO: File exists: C:\\Users\\ARCH GLOBAL\\stanza_resources\\nl\\default.zip\n",
      "2022-12-20 08:54:07 INFO: Finished downloading models and saved to C:\\Users\\ARCH GLOBAL\\stanza_resources.\n",
      "Downloading https://raw.githubusercontent.com/stanfordnlp/stanza-resources/main/resources_1.4.1.json: 193kB [00:00, ?B/s]                        \n",
      "2022-12-20 08:54:07 INFO: Downloading default packages for language: fr (French) ...\n",
      "2022-12-20 08:54:17 INFO: File exists: C:\\Users\\ARCH GLOBAL\\stanza_resources\\fr\\default.zip\n",
      "2022-12-20 08:54:37 INFO: Finished downloading models and saved to C:\\Users\\ARCH GLOBAL\\stanza_resources.\n"
     ]
    }
   ],
   "source": [
    "import sqlite3\n",
    "import os\n",
    "import pandas as pd\n",
    "from langdetect import detect\n",
    "import spacy\n",
    "from spacy import displacy\n",
    "from spacy_langdetect import LanguageDetector\n",
    "import stanza\n",
    "from stanza.models.common.doc import Document\n",
    "from stanza.pipeline.core import Pipeline\n",
    "from stanza.pipeline.multilingual import MultilingualPipeline\n",
    "from textblob import TextBlob\n",
    "\n",
    "stanza.download(lang=\"multilingual\")\n",
    "stanza.download(lang=\"nl\")\n",
    "stanza.download(lang=\"fr\")"
   ]
  },
  {
   "attachments": {},
   "cell_type": "markdown",
   "metadata": {},
   "source": [
    "## Open and Connect to Database"
   ]
  },
  {
   "cell_type": "code",
   "execution_count": 2,
   "metadata": {},
   "outputs": [],
   "source": [
    "database = '../../database'\n",
    "connect = sqlite3.connect(database)"
   ]
  },
  {
   "attachments": {},
   "cell_type": "markdown",
   "metadata": {},
   "source": [
    "## Build List of File Paths"
   ]
  },
  {
   "cell_type": "code",
   "execution_count": 3,
   "metadata": {},
   "outputs": [],
   "source": [
    "path_list = []\n",
    "\n",
    "for subdir, dir, files in os.walk('../../data'):\n",
    "    for file in files:\n",
    "        path = subdir + '/' + file\n",
    "        path_list.append(path)"
   ]
  },
  {
   "attachments": {},
   "cell_type": "markdown",
   "metadata": {},
   "source": [
    "## Detect Language of PDF Text Column and Assign to Separate Columns"
   ]
  },
   "source": [
    "for path in path_list:   ### loop through each CSV file\n",
    "    working_data = pd.read_csv(path)\n",
    "    \n",
    "    text_dict = {}\n",
    "    nl_dict = {}\n",
    "    fr_dict = {}\n",
    "    idx = 0\n",
    "    number = working_data.at[0, 'jc_number']\n",
    "\n",
    "    for text in working_data['pdf_text']:   ### parse text in pdf text column\n",
    "        lines_text_clean = []\n",
    "        nl_list = []\n",
    "        fr_list = []\n",
    "        lines_text = text.splitlines()   ### split by line\n",
    "        for line in lines_text:\n",
    "            if len(line) > 0:   ### filter out empty lines\n",
    "                lines_text_clean.append(line)\n",
    "        \"\"\"Use Stanza Language Detector to detect language by line\"\"\"\n",
    "        stanza_nlp = Pipeline(lang=\"multilingual\", processors=\"langid\", langid_lang_subset=[\"nl\",\"fr\"])\n",
    "        docs = [Document([], text=text) for text in lines_text_clean]\n",
    "        stanza_nlp(docs)\n",
    "        for doc in docs:\n",
    "            if doc.lang == 'nl':   ### assign dutch lines to list\n",
    "                nl_list.append(doc.text)\n",
    "            else:   ### assign non-dutch to another list\n",
    "                fr_list.append(doc.text)\n",
    "        nl_dict[working_data.iloc[idx]['filename']] = '\\n'.join(nl_list)   ### make dictionary of dutch lines\n",
    "        fr_dict[working_data.iloc[idx]['filename']] = '\\n'.join(fr_list)   ### make dictionary of non-dutch lines\n",
    "        idx = idx + 1\n",
    "    \n",
    "    working_data['nl_text'] = working_data['filename'].map(nl_dict)   ### create new column nl_text\n",
    "    working_data['fr_text'] = working_data['filename'].map(fr_dict)   ### create new column fr_text\n",
    "    working_data.to_sql(name='files_parsed', con=connect, if_exists='append')   ### store data in database\n",
    "    string_number = str(number)\n",
    "    working_data.to_csv(f'../../data_parsed/jc_{string_number[0:3]}_{string_number[4:]}.csv')   ### save data as csv file"
   ]
  }
 ],
 "metadata": {
  "kernelspec": {
   "display_name": "idp_project",
   "language": "python",
   "name": "python3"
  },
  "language_info": {
   "codemirror_mode": {
    "name": "ipython",
    "version": 3
   },
   "file_extension": ".py",
   "mimetype": "text/x-python",
   "name": "python",
   "nbconvert_exporter": "python",
   "pygments_lexer": "ipython3",
   "version": "3.9.15"
  },
  "orig_nbformat": 4,
  "vscode": {
   "interpreter": {
    "hash": "6dfb4a36d778f7a51d0a9a0433f85de491d3f8700a8c6a91e127333bb8600fd3"
   }
  }
 },
 "nbformat": 4,
 "nbformat_minor": 2
}
