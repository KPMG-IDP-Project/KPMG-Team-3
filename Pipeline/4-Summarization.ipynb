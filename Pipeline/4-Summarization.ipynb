{
 "cells": [
  {
   "attachments": {},
   "cell_type": "markdown",
   "metadata": {},
   "source": [
    "## Import Libraries"
   ]
  },
  {
   "cell_type": "code",
   "execution_count": null,
   "metadata": {},
   "outputs": [],
   "source": [
    "import pandas as pd\n",
    "import nltk\n",
    "from nltk.tokenize import sent_tokenize, word_tokenize\n",
    "from nltk.corpus import stopwords\n",
    "from nltk.probability import FreqDist\n",
    "from string import punctuation\n",
    "from collections import defaultdict\n",
    "from heapq import nlargest"
   ]
  },
  {
   "attachments": {},
   "cell_type": "markdown",
   "metadata": {},
   "source": [
    "## Load Data"
   ]
  },
  {
   "cell_type": "code",
   "execution_count": null,
   "metadata": {},
   "outputs": [],
   "source": [
    "jc_number = pd.read_csv(r'C:\\Temp\\jc_119_cluster.csv')"
   ]
  },
  {
   "attachments": {},
   "cell_type": "markdown",
   "metadata": {},
   "source": [
    "## Summarize the Text for the Target Cluster with the Predefined Keywords"
   ]
  },
  {
   "cell_type": "code",
   "execution_count": null,
   "metadata": {},
   "outputs": [],
   "source": [
    "def get_context(text, freq_words):\n",
    "    sents = sent_tokenize(text)\n",
    "    freq = FreqDist(freq_words)\n",
    "    ranking = defaultdict(int)\n",
    "\n",
    "    for i, sent in enumerate(sents):\n",
    "        for w in word_tokenize(sent.lower()):\n",
    "            if w in freq:\n",
    "                ranking[i] += freq[w]\n",
    "                \n",
    "    sents_idx = nlargest(6, ranking, key=ranking.get)\n",
    "    return [sents[j].replace('\\n', ' ')  for j in sorted(sents_idx)]"
   ]
  },
  {
   "cell_type": "code",
   "execution_count": null,
   "metadata": {},
   "outputs": [],
   "source": [
    "dic_words = {\n",
    "            'cluster_0' : ['premie', 'jaarlijkse', 'december', 'betaald', 'betaalbaar', 'collectieve', 'arbeidsovereenkomst', 'betreffende', 'commission', 'paritair', 'bedienden']\n",
    "            }\n",
    "search_words = dic_words ['cluster_0']         \n",
    "\n",
    "## Get text in a column \"summary_nl\"\n",
    "class_0 = jc_number.loc[jc_number['class'] == 0]\n",
    "class_0['summary_nl'] = jc_number.apply( lambda row : get_context(row['nl_text'], search_words), axis = 1)\n",
    "\n",
    "## Get text as summary example \n",
    "rows =[]\n",
    "for r in class_0['filename']:\n",
    "    rows.append(r)\n",
    "\n",
    "for i in rows:\n",
    "    text = jc_number['nl_text'].iloc[i]  \n",
    "    context = get_context(text, search_words)\n",
    "    print('\\n'.join(context))\n",
    "    print('\\n*********************************************\\n')"
   ]
  },
  {
   "attachments": {},
   "cell_type": "markdown",
   "metadata": {},
   "source": [
    "## Save Dataframe with Summarization to Excel"
   ]
  },
  {
   "cell_type": "code",
   "execution_count": null,
   "metadata": {},
   "outputs": [],
   "source": [
    "class_0.to_excel(r'C:\\Temp\\jc_119_summary.csv')"
   ]
  }
 ],
 "metadata": {
  "kernelspec": {
   "display_name": "Python 3",
   "language": "python",
   "name": "python3"
  },
  "language_info": {
   "name": "python",
   "version": "3.10.7 (tags/v3.10.7:6cc6b13, Sep  5 2022, 14:08:36) [MSC v.1933 64 bit (AMD64)]"
  },
  "orig_nbformat": 4,
  "vscode": {
   "interpreter": {
    "hash": "bc386330d7b90c1d4f9d36a944845880776fa6f92169770dad377b9367afa10a"
   }
  }
 },
 "nbformat": 4,
 "nbformat_minor": 2
}
