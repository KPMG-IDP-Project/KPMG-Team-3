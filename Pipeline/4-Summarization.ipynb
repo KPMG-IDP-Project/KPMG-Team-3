{
 "cells": [
  {
   "attachments": {},
   "cell_type": "markdown",
   "metadata": {},
   "source": [
    "## Import Libraries"
   ]
  },
  {
   "cell_type": "code",
   "execution_count": null,
   "metadata": {},
   "outputs": [],
   "source": [
    "import pandas as pd\n",
    "import nltk\n",
    "from nltk.tokenize import sent_tokenize, word_tokenize\n",
    "from nltk.corpus import stopwords\n",
    "from nltk.probability import FreqDist\n",
    "from string import punctuation\n",
    "from collections import defaultdict\n",
    "from heapq import nlargest\n",
    "import numpy as np"
   ]
  },
  {
   "attachments": {},
   "cell_type": "markdown",
   "metadata": {},
   "source": [
    "## Load Data"
   ]
  },
  {
   "cell_type": "code",
   "execution_count": null,
   "metadata": {},
   "outputs": [],
   "source": [
    "jc_number = pd.read_csv(r\"C:\\Users\\Olga\\Becode_Olga\\KPMG-Team-3\\data_csv\\C\\clustered\\jc_119_0_cluster.csv\")"
   ]
  },
  {
   "attachments": {},
   "cell_type": "markdown",
   "metadata": {},
   "source": [
    "## Summarize the Text for the Target Cluster with the Predefined Keywords"
   ]
  },
  {
   "cell_type": "code",
   "execution_count": null,
   "metadata": {},
   "outputs": [],
   "source": [
    "def get_context(text, freq_words):\n",
    "    sents = sent_tokenize(text)\n",
    "    freq = FreqDist(freq_words)\n",
    "    ranking = defaultdict(int)\n",
    "\n",
    "    for i, sent in enumerate(sents):\n",
    "        for w in word_tokenize(sent.lower()):\n",
    "            if w in freq:\n",
    "                ranking[i] += freq[w]\n",
    "                \n",
    "    sents_idx = nlargest(6, ranking, key=ranking.get)\n",
    "    return [sents[j].replace('\\n', ' ')  for j in sorted(sents_idx)]"
   ]
  },
  {
   "cell_type": "code",
   "execution_count": null,
   "metadata": {},
   "outputs": [],
   "source": [
    "dic_words = {\n",
    "            'cluster_0' : ['premie', 'jaarlijkse', 'december', 'betaald', 'betaalbaar', 'collectieve', 'arbeidsovereenkomst', 'betreffende', 'commission', 'paritair', 'bedienden']\n",
    "            }\n",
    "search_words = dic_words ['cluster_0']         \n",
    "\n",
    "jc_number['row_number'] = np.arange(len(jc_number))\n",
    "\n",
    "## Get text in a column \"summary_nl\"\n",
    "class_0 = jc_number.loc[jc_number['class'] == 0]\n",
    "class_0['summary_nl'] = jc_number.apply( lambda row : get_context(row['nl_text'], search_words), axis = 1)\n",
    "\n",
    "## Get text as summary example \n",
    "rows =[]\n",
    "for r in class_0['row_number']:\n",
    "    rows.append(r)\n",
    "\n",
    "for i in rows:\n",
    "    text = jc_number['nl_text'].iloc[i]  \n",
    "    context = get_context(text, search_words)\n",
    "    print('\\n'.join(context))\n",
    "    print('\\n*********************************************\\n')"
   ]
  },
  {
   "attachments": {},
   "cell_type": "markdown",
   "metadata": {},
   "source": [
    "## Save Dataframe with Summarization to Excel"
   ]
  },
  {
   "cell_type": "code",
   "execution_count": null,
   "metadata": {},
   "outputs": [],
   "source": [
    "class_0.to_excel(r\"C:\\Users\\Olga\\Becode_Olga\\KPMG-Team-3\\data_csv\\C\\summary\\jc_119_0_summary.xlsx\", engine='xlsxwriter')"
   ]
  }
 ],
 "metadata": {
  "kernelspec": {
   "display_name": "idp_project",
   "language": "python",
   "name": "python3"
  },
  "language_info": {
   "name": "python",
   "version": "3.9.15 (main, Nov 24 2022, 14:39:17) [MSC v.1916 64 bit (AMD64)]"
  },
  "orig_nbformat": 4,
  "vscode": {
   "interpreter": {
    "hash": "6dfb4a36d778f7a51d0a9a0433f85de491d3f8700a8c6a91e127333bb8600fd3"
   }
  }
 },
 "nbformat": 4,
 "nbformat_minor": 2
}
