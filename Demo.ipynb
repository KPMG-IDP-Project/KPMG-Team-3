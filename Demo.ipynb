{
 "cells": [
  {
   "attachments": {},
   "cell_type": "markdown",
   "metadata": {},
   "source": [
    "## 1-Text Extraction"
   ]
  },
  {
   "cell_type": "code",
   "execution_count": null,
   "metadata": {},
   "outputs": [],
   "source": [
    "import pandas as pd\n",
    "import os\n",
    "from pdfminer.high_level import extract_text\n",
    "\n",
    "metadata = '../wetransfer_b_2022-12-09_1647/B/CLA_meta_from_2018.csv'\n",
    "df_metadata = pd.read_csv(metadata)\n",
    "df_jc_number = df_metadata.loc[df_metadata['jc_number'] == 119.0]\n",
    "\n",
    "file_dict = {}\n",
    "\n",
    "for subdir, dirs, files in os.walk('../wetransfer_a_2022-12-09_1528/A/119'):\n",
    "    for file in files:\n",
    "        path = subdir + '/' + file\n",
    "        file_dict[file] = path\n",
    "\n",
    "files = df_jc_number[['jc_number', 'filename']]\n",
    "files['path'] = files['filename'].map(file_dict) ### map path to PDF files to metadata via filename\n",
    "files['path'] = files['path'].str.replace('\\\\', '/')\n",
    "\n",
    "files_dict = {}\n",
    "\n",
    "for p in files['path']:   ### loop through each path\n",
    "    text = extract_text(p)   ### extract pdf text using pdfminer.six\n",
    "    files_dict[p] = text   ### with path as key, store pdf text in a dictionary\n",
    "files['pdf_text'] = files['path'].map(files_dict) ### map pdf text to dataframe\n",
    "\n",
    "files.drop(['path'], axis=1, inplace=True)"
   ]
  },
  {
   "attachments": {},
   "cell_type": "markdown",
   "metadata": {},
   "source": [
    "## 2-Language Detection"
   ]
  },
  {
   "cell_type": "code",
   "execution_count": null,
   "metadata": {},
   "outputs": [],
   "source": [
    "import stanza\n",
    "from stanza.pipeline.core import Pipeline\n",
    "from stanza.models.common.doc import Document\n",
    "from stanza.pipeline.multilingual import MultilingualPipeline\n",
    "\n",
    "stanza.download(lang=\"multilingual\")\n",
    "stanza.download(lang=\"nl\")\n",
    "stanza.download(lang=\"fr\")\n",
    "\n",
    "text_dict = {}\n",
    "nl_dict = {}\n",
    "fr_dict = {}\n",
    "idx = 0\n",
    "\n",
    "for text in files['pdf_text']:   ### parse text in pdf text column\n",
    "    lines_text_clean = []\n",
    "    nl_list = []\n",
    "    fr_list = []\n",
    "    lines_text = text.splitlines()   ### split by line\n",
    "    for line in lines_text:\n",
    "        if len(line) > 0:   ### filter out empty lines\n",
    "            lines_text_clean.append(line)\n",
    "    \"\"\"Use Stanza Language Detector to detect language by line\"\"\"\n",
    "    stanza_nlp = Pipeline(lang=\"multilingual\", processors=\"langid\", langid_lang_subset=[\"nl\",\"fr\"])\n",
    "    docs = [Document([], text=text) for text in lines_text_clean]\n",
    "    stanza_nlp(docs)\n",
    "    for doc in docs:\n",
    "        if doc.lang == 'nl':   ### assign dutch lines to list\n",
    "            nl_list.append(doc.text)\n",
    "        else:   ### assign non-dutch to another list\n",
    "            fr_list.append(doc.text)\n",
    "    nl_dict[files.iloc[idx]['filename']] = '\\n'.join(nl_list)   ### make dictionary of dutch lines\n",
    "    fr_dict[files.iloc[idx]['filename']] = '\\n'.join(fr_list)   ### make dictionary of non-dutch lines\n",
    "    idx = idx + 1\n",
    "\n",
    "files['nl_text'] = files['filename'].map(nl_dict)   ### create new column nl_text\n",
    "files['fr_text'] = files['filename'].map(fr_dict)   ### create new column fr_text"
   ]
  },
  {
   "attachments": {},
   "cell_type": "markdown",
   "metadata": {},
   "source": [
    "## 3-Clustering"
   ]
  },
  {
   "cell_type": "code",
   "execution_count": null,
   "metadata": {},
   "outputs": [],
   "source": [
    "import nltk\n",
    "from nltk.tokenize import sent_tokenize, word_tokenize\n",
    "from nltk.corpus import stopwords\n",
    "from nltk.probability import FreqDist\n",
    "from string import punctuation\n",
    "from collections import defaultdict\n",
    "from heapq import nlargest\n",
    "from sklearn.feature_extraction.text import TfidfVectorizer\n",
    "from sklearn.cluster import KMeans\n",
    "import numpy as np\n",
    "\n",
    "_stopwords = list(stopwords.words('dutch') + list(punctuation) + [\"les\",\"'s\",\"''\",\"``\",\"du\",\"la\",\"par\",\"et\",\"à\", \"aux\",\"«\",\"le\", \"des\"])\n",
    "vectorizer = TfidfVectorizer(max_df=0.5, min_df=2, stop_words=_stopwords)\n",
    "\n",
    "posts = files['nl_text'].to_list()\n",
    "X = vectorizer.fit_transform(posts)\n",
    "\n",
    "km = KMeans(n_clusters=6, init='k-means++', max_iter=100, n_init=1, verbose=True, random_state=42)\n",
    "km.fit(X)\n",
    "\n",
    "np.unique(km.labels_, return_counts=True)\n",
    "files['class'] = km.labels_.tolist()\n",
    "\n",
    "text = {}\n",
    "file_ind = {}\n",
    "ind = []\n",
    "for i, cluster in enumerate(km.labels_):\n",
    "    oneDocument = posts[i]\n",
    "    if cluster not in text.keys():\n",
    "        text[cluster] = oneDocument\n",
    "    else:\n",
    "        text[cluster] += oneDocument\n",
    "\n",
    "keywords = {}\n",
    "counts = {}\n",
    "for cluster in range(6):\n",
    "    word_sent = word_tokenize(text[cluster].lower(), language=\"dutch\")\n",
    "    word_sent = [word for word in word_sent if word not in _stopwords]\n",
    "    freq = FreqDist(word_sent)\n",
    "    keywords[cluster] = nlargest(100, freq, key=freq.get)\n",
    "    counts[cluster] = freq\n",
    "\n",
    "unique_keys={}\n",
    "for cluster in range(6):   \n",
    "    other_clusters = list(set(range(6))-set([cluster]))\n",
    "    keys_other_clusters = set(keywords[other_clusters[0]]).union(set(keywords[other_clusters[1]]))\n",
    "    unique = set(keywords[cluster])-keys_other_clusters\n",
    "    unique_keys[cluster] = nlargest(15, unique, key=counts[cluster].get)\n",
    "\n",
    "files['key_words'] = files.apply( lambda row : unique_keys[row['class']], axis = 1)"
   ]
  },
  {
   "attachments": {},
   "cell_type": "markdown",
   "metadata": {},
   "source": [
    "## 4-Summarization"
   ]
  },
  {
   "cell_type": "code",
   "execution_count": null,
   "metadata": {},
   "outputs": [],
   "source": [
    "def get_context(text, freq_words):\n",
    "    sents = sent_tokenize(text)\n",
    "    freq = FreqDist(freq_words)\n",
    "    ranking = defaultdict(int)\n",
    "\n",
    "    for i, sent in enumerate(sents):\n",
    "        for w in word_tokenize(sent.lower()):\n",
    "            if w in freq:\n",
    "                ranking[i] += freq[w]\n",
    "                \n",
    "    sents_idx = nlargest(6, ranking, key=ranking.get)\n",
    "    return [sents[j].replace('\\n', ' ')  for j in sorted(sents_idx)]\n",
    "\n",
    "dic_words = {\n",
    "            'cluster_0' : ['premie', 'jaarlijkse', 'december', 'betaald', 'betaalbaar', 'collectieve', 'arbeidsovereenkomst', 'betreffende', 'commission', 'paritair', 'bedienden']\n",
    "            }\n",
    "search_words = dic_words['cluster_0']         \n",
    "\n",
    "files['row_number'] = np.arange(len(files))\n",
    "\n",
    "## Get text in a column \"summary_nl\"\n",
    "class_0 = files.loc[files['class'] == 0]\n",
    "class_0['summary_nl'] = files.apply( lambda row : get_context(row['nl_text'], search_words), axis = 1)\n",
    "\n",
    "## Get text as summary example \n",
    "rows =[]\n",
    "for row in class_0['row_number']:\n",
    "    rows.append(row)\n",
    "\n",
    "for i in rows:\n",
    "    text = files['nl_text'].iloc[i]\n",
    "    context = get_context(text, search_words)\n",
    "    print('\\n'.join(context))\n",
    "    print('\\n*********************************************\\n')\n",
    "\n",
    "number = class_0['jc_number'].values[0]\n",
    "string_number = str(number)\n",
    "class_0.to_excel(f'../demo/jc_{string_number[0:3]}_{string_number[4:]}_class_0.xlsx', engine='xlsxwriter')"
   ]
  }
 ],
 "metadata": {
  "kernelspec": {
   "display_name": "idp_project",
   "language": "python",
   "name": "python3"
  },
  "language_info": {
   "codemirror_mode": {
    "name": "ipython",
    "version": 3
   },
   "file_extension": ".py",
   "mimetype": "text/x-python",
   "name": "python",
   "nbconvert_exporter": "python",
   "pygments_lexer": "ipython3",
   "version": "3.9.15 (main, Nov 24 2022, 14:39:17) [MSC v.1916 64 bit (AMD64)]"
  },
  "orig_nbformat": 4,
  "vscode": {
   "interpreter": {
    "hash": "6dfb4a36d778f7a51d0a9a0433f85de491d3f8700a8c6a91e127333bb8600fd3"
   }
  }
 },
 "nbformat": 4,
 "nbformat_minor": 2
}
