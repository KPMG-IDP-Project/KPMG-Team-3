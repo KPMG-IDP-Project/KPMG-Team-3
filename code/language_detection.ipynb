{
 "cells": [
  {
   "cell_type": "code",
   "execution_count": null,
   "metadata": {},
   "outputs": [],
   "source": [
    "from langdetect import detect\n",
    "import spacy\n",
    "from spacy import displacy\n",
    "from spacy_langdetect import LanguageDetector\n",
    "import stanza\n",
    "from stanza.models.common.doc import Document\n",
    "from stanza.pipeline.core import Pipeline\n",
    "from stanza.pipeline.multilingual import MultilingualPipeline\n",
    "from textblob import TextBlob\n",
    "\n",
    "stanza.download(lang=\"multilingual\")\n",
    "stanza.download(lang=\"nl\")\n",
    "stanza.download(lang=\"fr\")"
   ]
  },
  {
   "cell_type": "code",
   "execution_count": null,
   "metadata": {},
   "outputs": [],
   "source": [
    "nl_text = []\n",
    "fr_text = []\n",
    "\n",
    "for text in trial_data['pdf_text']:\n",
    "    lines_text_clean = []\n",
    "    file_text = []\n",
    "    lines_text = text.splitlines()\n",
    "    for line in lines_text:\n",
    "        if len(line) > 0:\n",
    "            lines_text_clean.append(line)\n",
    "    stanza_nlp = Pipeline(lang=\"multilingual\", processors=\"langid\", langid_lang_subset=[\"nl\",\"fr\"])\n",
    "    docs = [Document([], text=text) for text in lines_text_clean]\n",
    "    stanza_nlp(docs)\n",
    "    for doc in docs:\n",
    "        if doc.lang == 'nl':\n",
    "            nl_text.append(doc.text)\n",
    "        else:\n",
    "            fr_text.append(doc.text)\n",
    "print(nl_text)\n",
    "print(fr_text)"
   ]
  },
  {
   "cell_type": "code",
   "execution_count": null,
   "metadata": {},
   "outputs": [],
   "source": [
    "text_dict = {}\n",
    "idx = 0\n",
    "\n",
    "for text in grouped_data['pdf_text']:\n",
    "    lines_text_clean = []\n",
    "    nl_text = []\n",
    "    fr_text = []\n",
    "    file_text = []\n",
    "    lines_text = text.splitlines()\n",
    "    for line in lines_text:\n",
    "        if len(line) > 0:\n",
    "            lines_text_clean.append(line)\n",
    "    stanza_nlp = Pipeline(lang=\"multilingual\", processors=\"langid\", langid_lang_subset=[\"nl\",\"fr\"])\n",
    "    docs = [Document([], text=text) for text in lines_text_clean]\n",
    "    stanza_nlp(docs)\n",
    "    for doc in docs:\n",
    "        if doc.lang == 'nl':\n",
    "            nl_text.append(doc.text)\n",
    "        else:\n",
    "            fr_text.append(doc.text)\n",
    "    file_text.append(nl_text)\n",
    "    file_text.append(fr_text)\n",
    "    text_dict[grouped_data.iloc[idx]['filename']] = file_text\n",
    "    idx = idx + 1"
   ]
  }
 ],
 "metadata": {
  "kernelspec": {
   "display_name": "idp_project",
   "language": "python",
   "name": "python3"
  },
  "language_info": {
   "name": "python",
   "version": "3.9.15 (main, Nov 24 2022, 14:39:17) [MSC v.1916 64 bit (AMD64)]"
  },
  "orig_nbformat": 4,
  "vscode": {
   "interpreter": {
    "hash": "6dfb4a36d778f7a51d0a9a0433f85de491d3f8700a8c6a91e127333bb8600fd3"
   }
  }
 },
 "nbformat": 4,
 "nbformat_minor": 2
}
