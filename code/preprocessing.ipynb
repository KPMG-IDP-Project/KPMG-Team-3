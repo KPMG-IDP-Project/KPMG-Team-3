{
 "cells": [
  {
   "attachments": {},
   "cell_type": "markdown",
   "metadata": {},
   "source": [
    "## Import Libraries"
   ]
  },
  {
   "cell_type": "code",
   "execution_count": 1,
   "metadata": {},
   "outputs": [],
   "source": [
    "import pandas as pd\n",
    "import os\n",
    "from pdfminer.high_level import extract_text\n",
    "import sqlite3"
   ]
  },
  {
   "attachments": {},
   "cell_type": "markdown",
   "metadata": {},
   "source": [
    "## Load Metadata"
   ]
  },
  {
   "cell_type": "code",
   "execution_count": 2,
   "metadata": {},
   "outputs": [],
   "source": [
    "metadata = pd.read_csv('../../wetransfer_b_2022-12-09_1647/B/CLA_meta_from_2018.csv')"
   ]
  },
  {
   "attachments": {},
   "cell_type": "markdown",
   "metadata": {},
   "source": [
    "## Build Dictionary of PDF Files"
   ]
  },
  {
   "cell_type": "code",
   "execution_count": 3,
   "metadata": {},
   "outputs": [],
   "source": [
    "file_dict = {}\n",
    "\n",
    "\"\"\"With filename as key, store path to PDF files in a dictionary\"\"\"\n",
    "\n",
    "for subdir, dirs, files in os.walk('../../wetransfer_a_2022-12-09_1528/A'):\n",
    "    for file in files:\n",
    "        path = subdir + '/' + file\n",
    "        file_dict[file] = path\n",
    "\n",
    "for subdir, dirs, files in os.walk('../../wetransfer_b_2022-12-09_1647/B'):\n",
    "    for file in files:\n",
    "        path = subdir + '/' + file\n",
    "        file_dict[file] = path"
   ]
  },
  {
   "attachments": {},
   "cell_type": "markdown",
   "metadata": {},
   "source": [
    "## Map Dictionary to Metadata"
   ]
  },
  {
   "cell_type": "code",
   "execution_count": null,
   "metadata": {},
   "outputs": [],
   "source": [
    "files = metadata[['jc_number', 'filename']]\n",
    "files['path'] = files['filename'].map(file_dict) ### map path to PDF files to metadata via filename\n",
    "files['path'] = files['path'].str.replace('\\\\', '/')\n",
    "jc_number_list = files['jc_number'].unique()\n",
    "files_group = files.groupby(files['jc_number'])   ### group pdf files by jc_number"
   ]
  },
  {
   "attachments": {},
   "cell_type": "markdown",
   "metadata": {},
   "source": [
    "## Build and/or Connect to Database"
   ]
  },
  {
   "cell_type": "code",
   "execution_count": 10,
   "metadata": {},
   "outputs": [],
   "source": [
    "database = '../../database'\n",
    "connect = sqlite3.connect(database)\n",
    "metadata.to_sql(name='metadata', con=connect, if_exists='replace')"
   ]
  },
  {
   "attachments": {},
   "cell_type": "markdown",
   "metadata": {},
   "source": [
    "## Extract Text from PDF Files and Store into CSV and Database"
   ]
  },
  {
   "cell_type": "code",
   "execution_count": null,
   "metadata": {},
   "outputs": [],
   "source": [
    "for number in jc_number_list:   ### loop through each jc_number\n",
    "    grouped_dict = {}\n",
    "    grouped_data = files_group.get_group(number)\n",
    "    for p in grouped_data['path']:   ### loop through each path per jc_number\n",
    "        text = extract_text(p)   ### extract pdf text using pdfminer.six\n",
    "        grouped_dict[p] = text   ### with path as key, store pdf text in a dictionary\n",
    "    grouped_data['pdf_text'] = grouped_data['path'].map(grouped_dict) ### map pdf text to dataframe\n",
    "    grouped_data.to_sql(name='files', con=connect, if_exists='append')   ### store data in database\n",
    "    string_number = str(number)\n",
    "    grouped_data.to_csv(f'../../data/jc_{string_number[0:3]}_{string_number[4:]}.csv')   ### save data as csv file"
   ]
  }
 ],
 "metadata": {
  "kernelspec": {
   "display_name": "idp_project",
   "language": "python",
   "name": "python3"
  },
  "language_info": {
   "codemirror_mode": {
    "name": "ipython",
    "version": 3
   },
   "file_extension": ".py",
   "mimetype": "text/x-python",
   "name": "python",
   "nbconvert_exporter": "python",
   "pygments_lexer": "ipython3",
   "version": "3.9.15"
  },
  "orig_nbformat": 4,
  "vscode": {
   "interpreter": {
    "hash": "6dfb4a36d778f7a51d0a9a0433f85de491d3f8700a8c6a91e127333bb8600fd3"
   }
  }
 },
 "nbformat": 4,
 "nbformat_minor": 2
}
