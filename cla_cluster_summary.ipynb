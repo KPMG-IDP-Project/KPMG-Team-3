{
 "cells": [
  {
   "cell_type": "code",
   "execution_count": null,
   "metadata": {},
   "outputs": [],
   "source": []
  },
  {
   "cell_type": "code",
   "execution_count": 47,
   "metadata": {},
   "outputs": [],
   "source": [
    "import pandas as pd"
   ]
  },
  {
   "cell_type": "code",
   "execution_count": 48,
   "metadata": {},
   "outputs": [],
   "source": [
    "jc_number = pd.read_csv(r\"C:\\Users\\Olga\\Becode_Olga\\KPMG-Team-3\\data_csv\\C\\jc_119_0.csv\")"
   ]
  },
  {
   "cell_type": "code",
   "execution_count": 49,
   "metadata": {},
   "outputs": [
    {
     "data": {
      "text/plain": [
       "53"
      ]
     },
     "execution_count": 49,
     "metadata": {},
     "output_type": "execute_result"
    }
   ],
   "source": [
    "posts = jc_number['nl_text'].to_list()\n",
    "len(posts)"
   ]
  },
  {
   "cell_type": "code",
   "execution_count": 50,
   "metadata": {},
   "outputs": [],
   "source": [
    "from nltk.tokenize import sent_tokenize,word_tokenize\n",
    "from nltk.corpus import stopwords\n",
    "from string import punctuation\n",
    "from nltk.probability import FreqDist\n",
    "from collections import defaultdict\n",
    "from heapq import nlargest\n",
    "import nltk \n",
    "\n",
    "_stopwords = list(stopwords.words('dutch') + list(punctuation)+[\"les\",\"'s\",\"''\",\"``\",\"du\",\"la\",\"par\",\"et\",\"à\", \"aux\",\"«\",\"le\", \"des\"])"
   ]
  },
  {
   "cell_type": "code",
   "execution_count": 51,
   "metadata": {},
   "outputs": [],
   "source": [
    "from sklearn.feature_extraction.text import TfidfVectorizer\n",
    "vectorizer = TfidfVectorizer(max_df=0.5,min_df=2,stop_words=_stopwords)"
   ]
  },
  {
   "cell_type": "code",
   "execution_count": 52,
   "metadata": {},
   "outputs": [
    {
     "data": {
      "text/plain": [
       "<53x1403 sparse matrix of type '<class 'numpy.float64'>'\n",
       "\twith 7818 stored elements in Compressed Sparse Row format>"
      ]
     },
     "execution_count": 52,
     "metadata": {},
     "output_type": "execute_result"
    }
   ],
   "source": [
    "X = vectorizer.fit_transform(posts)\n",
    "X"
   ]
  },
  {
   "cell_type": "code",
   "execution_count": 53,
   "metadata": {},
   "outputs": [
    {
     "data": {
      "text/plain": [
       "<1x1403 sparse matrix of type '<class 'numpy.float64'>'\n",
       "\twith 16 stored elements in Compressed Sparse Row format>"
      ]
     },
     "execution_count": 53,
     "metadata": {},
     "output_type": "execute_result"
    }
   ],
   "source": [
    "X[0]\n",
    "#print(X[0])"
   ]
  },
  {
   "cell_type": "code",
   "execution_count": 54,
   "metadata": {},
   "outputs": [
    {
     "name": "stdout",
     "output_type": "stream",
     "text": [
      "Initialization complete\n",
      "Iteration 0, inertia 55.09657568594401.\n",
      "Iteration 1, inertia 30.885087713026053.\n",
      "Iteration 2, inertia 30.74127961325411.\n",
      "Converged at iteration 2: strict convergence.\n"
     ]
    },
    {
     "data": {
      "text/html": [
       "<style>#sk-container-id-5 {color: black;background-color: white;}#sk-container-id-5 pre{padding: 0;}#sk-container-id-5 div.sk-toggleable {background-color: white;}#sk-container-id-5 label.sk-toggleable__label {cursor: pointer;display: block;width: 100%;margin-bottom: 0;padding: 0.3em;box-sizing: border-box;text-align: center;}#sk-container-id-5 label.sk-toggleable__label-arrow:before {content: \"▸\";float: left;margin-right: 0.25em;color: #696969;}#sk-container-id-5 label.sk-toggleable__label-arrow:hover:before {color: black;}#sk-container-id-5 div.sk-estimator:hover label.sk-toggleable__label-arrow:before {color: black;}#sk-container-id-5 div.sk-toggleable__content {max-height: 0;max-width: 0;overflow: hidden;text-align: left;background-color: #f0f8ff;}#sk-container-id-5 div.sk-toggleable__content pre {margin: 0.2em;color: black;border-radius: 0.25em;background-color: #f0f8ff;}#sk-container-id-5 input.sk-toggleable__control:checked~div.sk-toggleable__content {max-height: 200px;max-width: 100%;overflow: auto;}#sk-container-id-5 input.sk-toggleable__control:checked~label.sk-toggleable__label-arrow:before {content: \"▾\";}#sk-container-id-5 div.sk-estimator input.sk-toggleable__control:checked~label.sk-toggleable__label {background-color: #d4ebff;}#sk-container-id-5 div.sk-label input.sk-toggleable__control:checked~label.sk-toggleable__label {background-color: #d4ebff;}#sk-container-id-5 input.sk-hidden--visually {border: 0;clip: rect(1px 1px 1px 1px);clip: rect(1px, 1px, 1px, 1px);height: 1px;margin: -1px;overflow: hidden;padding: 0;position: absolute;width: 1px;}#sk-container-id-5 div.sk-estimator {font-family: monospace;background-color: #f0f8ff;border: 1px dotted black;border-radius: 0.25em;box-sizing: border-box;margin-bottom: 0.5em;}#sk-container-id-5 div.sk-estimator:hover {background-color: #d4ebff;}#sk-container-id-5 div.sk-parallel-item::after {content: \"\";width: 100%;border-bottom: 1px solid gray;flex-grow: 1;}#sk-container-id-5 div.sk-label:hover label.sk-toggleable__label {background-color: #d4ebff;}#sk-container-id-5 div.sk-serial::before {content: \"\";position: absolute;border-left: 1px solid gray;box-sizing: border-box;top: 0;bottom: 0;left: 50%;z-index: 0;}#sk-container-id-5 div.sk-serial {display: flex;flex-direction: column;align-items: center;background-color: white;padding-right: 0.2em;padding-left: 0.2em;position: relative;}#sk-container-id-5 div.sk-item {position: relative;z-index: 1;}#sk-container-id-5 div.sk-parallel {display: flex;align-items: stretch;justify-content: center;background-color: white;position: relative;}#sk-container-id-5 div.sk-item::before, #sk-container-id-5 div.sk-parallel-item::before {content: \"\";position: absolute;border-left: 1px solid gray;box-sizing: border-box;top: 0;bottom: 0;left: 50%;z-index: -1;}#sk-container-id-5 div.sk-parallel-item {display: flex;flex-direction: column;z-index: 1;position: relative;background-color: white;}#sk-container-id-5 div.sk-parallel-item:first-child::after {align-self: flex-end;width: 50%;}#sk-container-id-5 div.sk-parallel-item:last-child::after {align-self: flex-start;width: 50%;}#sk-container-id-5 div.sk-parallel-item:only-child::after {width: 0;}#sk-container-id-5 div.sk-dashed-wrapped {border: 1px dashed gray;margin: 0 0.4em 0.5em 0.4em;box-sizing: border-box;padding-bottom: 0.4em;background-color: white;}#sk-container-id-5 div.sk-label label {font-family: monospace;font-weight: bold;display: inline-block;line-height: 1.2em;}#sk-container-id-5 div.sk-label-container {text-align: center;}#sk-container-id-5 div.sk-container {/* jupyter's `normalize.less` sets `[hidden] { display: none; }` but bootstrap.min.css set `[hidden] { display: none !important; }` so we also need the `!important` here to be able to override the default hidden behavior on the sphinx rendered scikit-learn.org. See: https://github.com/scikit-learn/scikit-learn/issues/21755 */display: inline-block !important;position: relative;}#sk-container-id-5 div.sk-text-repr-fallback {display: none;}</style><div id=\"sk-container-id-5\" class=\"sk-top-container\"><div class=\"sk-text-repr-fallback\"><pre>KMeans(max_iter=100, n_clusters=6, n_init=1, random_state=42, verbose=True)</pre><b>In a Jupyter environment, please rerun this cell to show the HTML representation or trust the notebook. <br />On GitHub, the HTML representation is unable to render, please try loading this page with nbviewer.org.</b></div><div class=\"sk-container\" hidden><div class=\"sk-item\"><div class=\"sk-estimator sk-toggleable\"><input class=\"sk-toggleable__control sk-hidden--visually\" id=\"sk-estimator-id-5\" type=\"checkbox\" checked><label for=\"sk-estimator-id-5\" class=\"sk-toggleable__label sk-toggleable__label-arrow\">KMeans</label><div class=\"sk-toggleable__content\"><pre>KMeans(max_iter=100, n_clusters=6, n_init=1, random_state=42, verbose=True)</pre></div></div></div></div></div>"
      ],
      "text/plain": [
       "KMeans(max_iter=100, n_clusters=6, n_init=1, random_state=42, verbose=True)"
      ]
     },
     "execution_count": 54,
     "metadata": {},
     "output_type": "execute_result"
    }
   ],
   "source": [
    "from sklearn.cluster import KMeans\n",
    "km = KMeans(n_clusters = 6, init = 'k-means++', max_iter = 100, n_init = 1, verbose = True, random_state = 42)\n",
    "km.fit(X)"
   ]
  },
  {
   "cell_type": "code",
   "execution_count": 55,
   "metadata": {},
   "outputs": [
    {
     "data": {
      "text/plain": [
       "(array([0, 1, 2, 3, 4, 5]), array([ 9, 21,  5,  9,  2,  7], dtype=int64))"
      ]
     },
     "execution_count": 55,
     "metadata": {},
     "output_type": "execute_result"
    }
   ],
   "source": [
    "import numpy as np\n",
    "np.unique(km.labels_, return_counts=True)"
   ]
  },
  {
   "cell_type": "code",
   "execution_count": 56,
   "metadata": {},
   "outputs": [
    {
     "data": {
      "text/html": [
       "<div>\n",
       "<style scoped>\n",
       "    .dataframe tbody tr th:only-of-type {\n",
       "        vertical-align: middle;\n",
       "    }\n",
       "\n",
       "    .dataframe tbody tr th {\n",
       "        vertical-align: top;\n",
       "    }\n",
       "\n",
       "    .dataframe thead th {\n",
       "        text-align: right;\n",
       "    }\n",
       "</style>\n",
       "<table border=\"1\" class=\"dataframe\">\n",
       "  <thead>\n",
       "    <tr style=\"text-align: right;\">\n",
       "      <th></th>\n",
       "      <th>Unnamed: 0.1</th>\n",
       "      <th>Unnamed: 0</th>\n",
       "      <th>jc_number</th>\n",
       "      <th>filename</th>\n",
       "      <th>path</th>\n",
       "      <th>pdf_text</th>\n",
       "      <th>nl_text</th>\n",
       "      <th>fr_text</th>\n",
       "      <th>class</th>\n",
       "    </tr>\n",
       "  </thead>\n",
       "  <tbody>\n",
       "    <tr>\n",
       "      <th>3</th>\n",
       "      <td>3</td>\n",
       "      <td>1119</td>\n",
       "      <td>119.0</td>\n",
       "      <td>119-2022-000648.pdf</td>\n",
       "      <td>../../wetransfer_a_2022-12-09_1528/A/119/119-2...</td>\n",
       "      <td>Neerlegging-Dépôt:\\nRegist. -Enregistr.: 04/04...</td>\n",
       "      <td>Regist. -Enregistr.: 04/04/2022\\nPARITAIR COMI...</td>\n",
       "      <td>Neerlegging-Dépôt:\\nN\": 171599/CO/119\\n18/01/2...</td>\n",
       "      <td>0</td>\n",
       "    </tr>\n",
       "    <tr>\n",
       "      <th>9</th>\n",
       "      <td>9</td>\n",
       "      <td>1125</td>\n",
       "      <td>119.0</td>\n",
       "      <td>119-2021-013502.pdf</td>\n",
       "      <td>../../wetransfer_a_2022-12-09_1528/A/119/119-2...</td>\n",
       "      <td>Neerlegging-Dépôt:\\nRegist.-Enregistr.:\\nW: 16...</td>\n",
       "      <td>Regist.-Enregistr.:\\nPARITAIR COMITE VOOR DE H...</td>\n",
       "      <td>Neerlegging-Dépôt:\\nW: 168880/CO/119\\n25/11/20...</td>\n",
       "      <td>0</td>\n",
       "    </tr>\n",
       "    <tr>\n",
       "      <th>13</th>\n",
       "      <td>13</td>\n",
       "      <td>1129</td>\n",
       "      <td>119.0</td>\n",
       "      <td>119-2021-013506.pdf</td>\n",
       "      <td>../../wetransfer_a_2022-12-09_1528/A/119/119-2...</td>\n",
       "      <td>Neerlegging-Dépôt:\\nRegist.-Enregistr.:\\nN°: 1...</td>\n",
       "      <td>Regist.-Enregistr.:\\nPARITAIR COMITE VOOR DE H...</td>\n",
       "      <td>Neerlegging-Dépôt:\\nN°: 168884/CO/119\\n25/11/2...</td>\n",
       "      <td>0</td>\n",
       "    </tr>\n",
       "    <tr>\n",
       "      <th>15</th>\n",
       "      <td>15</td>\n",
       "      <td>1131</td>\n",
       "      <td>119.0</td>\n",
       "      <td>119-2021-013508.pdf</td>\n",
       "      <td>../../wetransfer_a_2022-12-09_1528/A/119/119-2...</td>\n",
       "      <td>Neerlegging-Dépôt:\\nRegist.-Enregistr.: 14/12/...</td>\n",
       "      <td>Regist.-Enregistr.: 14/12/2021\\nPARITAIR COMIT...</td>\n",
       "      <td>Neerlegging-Dépôt:\\nW: 168886/CO/119\\n25/11/20...</td>\n",
       "      <td>0</td>\n",
       "    </tr>\n",
       "    <tr>\n",
       "      <th>20</th>\n",
       "      <td>20</td>\n",
       "      <td>1136</td>\n",
       "      <td>119.0</td>\n",
       "      <td>119-2021-013498.pdf</td>\n",
       "      <td>../../wetransfer_a_2022-12-09_1528/A/119/119-2...</td>\n",
       "      <td>Service public fédéral Emploi, Travail et\\nCon...</td>\n",
       "      <td>Concertation sociale\\nFederale overheidsdienst...</td>\n",
       "      <td>Service public fédéral Emploi, Travail et\\nDIR...</td>\n",
       "      <td>0</td>\n",
       "    </tr>\n",
       "    <tr>\n",
       "      <th>37</th>\n",
       "      <td>37</td>\n",
       "      <td>1153</td>\n",
       "      <td>119.0</td>\n",
       "      <td>119-2019-015668.pdf</td>\n",
       "      <td>../../wetransfer_a_2022-12-09_1528/A/119/119-2...</td>\n",
       "      <td>Service public fédéral Emploi, Travail et\\nCon...</td>\n",
       "      <td>Concertation sociale\\nFederale overheidsdienst...</td>\n",
       "      <td>Service public fédéral Emploi, Travail et\\nDIR...</td>\n",
       "      <td>0</td>\n",
       "    </tr>\n",
       "    <tr>\n",
       "      <th>38</th>\n",
       "      <td>38</td>\n",
       "      <td>1154</td>\n",
       "      <td>119.0</td>\n",
       "      <td>119-2019-015669.pdf</td>\n",
       "      <td>../../wetransfer_a_2022-12-09_1528/A/119/119-2...</td>\n",
       "      <td>Neerlegging-Dépôt:\\nRegist.-Enregistr.:\\nN°: 1...</td>\n",
       "      <td>Regist.-Enregistr.:\\nPARITAIR COMITE VOOR DE H...</td>\n",
       "      <td>Neerlegging-Dépôt:\\nN°: 156927/CO/119\\n23/12/2...</td>\n",
       "      <td>0</td>\n",
       "    </tr>\n",
       "    <tr>\n",
       "      <th>39</th>\n",
       "      <td>39</td>\n",
       "      <td>1155</td>\n",
       "      <td>119.0</td>\n",
       "      <td>119-2019-015670.pdf</td>\n",
       "      <td>../../wetransfer_a_2022-12-09_1528/A/119/119-2...</td>\n",
       "      <td>Neerlegging-Dépôt:\\nRegist.-Enregistr.:\\nW: 15...</td>\n",
       "      <td>Regist.-Enregistr.:\\nPARITAIR COMITE VOOR DE H...</td>\n",
       "      <td>Neerlegging-Dépôt:\\nW: 156928/CO/119\\n23/12/20...</td>\n",
       "      <td>0</td>\n",
       "    </tr>\n",
       "    <tr>\n",
       "      <th>44</th>\n",
       "      <td>44</td>\n",
       "      <td>1160</td>\n",
       "      <td>119.0</td>\n",
       "      <td>119-2019-008612.pdf</td>\n",
       "      <td>../../wetransfer_a_2022-12-09_1528/A/119/119-2...</td>\n",
       "      <td>Neerlegging-Dépôt:\\nRegist.-Enregistr.:\\nW: 15...</td>\n",
       "      <td>Regist.-Enregistr.:\\nPARITAIR COMITE VOOR DE H...</td>\n",
       "      <td>Neerlegging-Dépôt:\\nW: 151875/CO/119\\n21/05/20...</td>\n",
       "      <td>0</td>\n",
       "    </tr>\n",
       "  </tbody>\n",
       "</table>\n",
       "</div>"
      ],
      "text/plain": [
       "    Unnamed: 0.1  Unnamed: 0  jc_number             filename  \\\n",
       "3              3        1119      119.0  119-2022-000648.pdf   \n",
       "9              9        1125      119.0  119-2021-013502.pdf   \n",
       "13            13        1129      119.0  119-2021-013506.pdf   \n",
       "15            15        1131      119.0  119-2021-013508.pdf   \n",
       "20            20        1136      119.0  119-2021-013498.pdf   \n",
       "37            37        1153      119.0  119-2019-015668.pdf   \n",
       "38            38        1154      119.0  119-2019-015669.pdf   \n",
       "39            39        1155      119.0  119-2019-015670.pdf   \n",
       "44            44        1160      119.0  119-2019-008612.pdf   \n",
       "\n",
       "                                                 path  \\\n",
       "3   ../../wetransfer_a_2022-12-09_1528/A/119/119-2...   \n",
       "9   ../../wetransfer_a_2022-12-09_1528/A/119/119-2...   \n",
       "13  ../../wetransfer_a_2022-12-09_1528/A/119/119-2...   \n",
       "15  ../../wetransfer_a_2022-12-09_1528/A/119/119-2...   \n",
       "20  ../../wetransfer_a_2022-12-09_1528/A/119/119-2...   \n",
       "37  ../../wetransfer_a_2022-12-09_1528/A/119/119-2...   \n",
       "38  ../../wetransfer_a_2022-12-09_1528/A/119/119-2...   \n",
       "39  ../../wetransfer_a_2022-12-09_1528/A/119/119-2...   \n",
       "44  ../../wetransfer_a_2022-12-09_1528/A/119/119-2...   \n",
       "\n",
       "                                             pdf_text  \\\n",
       "3   Neerlegging-Dépôt:\\nRegist. -Enregistr.: 04/04...   \n",
       "9   Neerlegging-Dépôt:\\nRegist.-Enregistr.:\\nW: 16...   \n",
       "13  Neerlegging-Dépôt:\\nRegist.-Enregistr.:\\nN°: 1...   \n",
       "15  Neerlegging-Dépôt:\\nRegist.-Enregistr.: 14/12/...   \n",
       "20  Service public fédéral Emploi, Travail et\\nCon...   \n",
       "37  Service public fédéral Emploi, Travail et\\nCon...   \n",
       "38  Neerlegging-Dépôt:\\nRegist.-Enregistr.:\\nN°: 1...   \n",
       "39  Neerlegging-Dépôt:\\nRegist.-Enregistr.:\\nW: 15...   \n",
       "44  Neerlegging-Dépôt:\\nRegist.-Enregistr.:\\nW: 15...   \n",
       "\n",
       "                                              nl_text  \\\n",
       "3   Regist. -Enregistr.: 04/04/2022\\nPARITAIR COMI...   \n",
       "9   Regist.-Enregistr.:\\nPARITAIR COMITE VOOR DE H...   \n",
       "13  Regist.-Enregistr.:\\nPARITAIR COMITE VOOR DE H...   \n",
       "15  Regist.-Enregistr.: 14/12/2021\\nPARITAIR COMIT...   \n",
       "20  Concertation sociale\\nFederale overheidsdienst...   \n",
       "37  Concertation sociale\\nFederale overheidsdienst...   \n",
       "38  Regist.-Enregistr.:\\nPARITAIR COMITE VOOR DE H...   \n",
       "39  Regist.-Enregistr.:\\nPARITAIR COMITE VOOR DE H...   \n",
       "44  Regist.-Enregistr.:\\nPARITAIR COMITE VOOR DE H...   \n",
       "\n",
       "                                              fr_text  class  \n",
       "3   Neerlegging-Dépôt:\\nN\": 171599/CO/119\\n18/01/2...      0  \n",
       "9   Neerlegging-Dépôt:\\nW: 168880/CO/119\\n25/11/20...      0  \n",
       "13  Neerlegging-Dépôt:\\nN°: 168884/CO/119\\n25/11/2...      0  \n",
       "15  Neerlegging-Dépôt:\\nW: 168886/CO/119\\n25/11/20...      0  \n",
       "20  Service public fédéral Emploi, Travail et\\nDIR...      0  \n",
       "37  Service public fédéral Emploi, Travail et\\nDIR...      0  \n",
       "38  Neerlegging-Dépôt:\\nN°: 156927/CO/119\\n23/12/2...      0  \n",
       "39  Neerlegging-Dépôt:\\nW: 156928/CO/119\\n23/12/20...      0  \n",
       "44  Neerlegging-Dépôt:\\nW: 151875/CO/119\\n21/05/20...      0  "
      ]
     },
     "execution_count": 56,
     "metadata": {},
     "output_type": "execute_result"
    }
   ],
   "source": [
    "km.labels_\n",
    "jc_number['class'] = pd.DataFrame(km.labels_)\n",
    "\n",
    "jc_number[jc_number['class']==0]"
   ]
  },
  {
   "cell_type": "code",
   "execution_count": 57,
   "metadata": {},
   "outputs": [],
   "source": [
    "text={}\n",
    "file_ind = {}\n",
    "ind = []\n",
    "for i,cluster in enumerate(km.labels_):\n",
    "    oneDocument = posts[i]\n",
    "    if cluster not in text.keys():\n",
    "        text[cluster] = oneDocument\n",
    "    else:\n",
    "        text[cluster] += oneDocument"
   ]
  },
  {
   "cell_type": "code",
   "execution_count": 58,
   "metadata": {},
   "outputs": [],
   "source": [
    "keywords = {}\n",
    "counts={}\n",
    "for cluster in range(6):\n",
    "    word_sent = word_tokenize(text[cluster].lower())\n",
    "    word_sent=[word for word in word_sent if word not in _stopwords]\n",
    "    freq = FreqDist(word_sent)\n",
    "    keywords[cluster] = nlargest(100, freq, key=freq.get)\n",
    "    counts[cluster]=freq"
   ]
  },
  {
   "cell_type": "code",
   "execution_count": 59,
   "metadata": {},
   "outputs": [],
   "source": [
    "unique_keys={}\n",
    "for cluster in range(6):   \n",
    "    other_clusters=list(set(range(6))-set([cluster]))\n",
    "    keys_other_clusters=set(keywords[other_clusters[0]]).union(set(keywords[other_clusters[1]]))\n",
    "    unique=set(keywords[cluster])-keys_other_clusters\n",
    "    unique_keys[cluster]=nlargest(15, unique, key=counts[cluster].get)"
   ]
  },
  {
   "cell_type": "code",
   "execution_count": 60,
   "metadata": {},
   "outputs": [
    {
     "data": {
      "text/html": [
       "<div>\n",
       "<style scoped>\n",
       "    .dataframe tbody tr th:only-of-type {\n",
       "        vertical-align: middle;\n",
       "    }\n",
       "\n",
       "    .dataframe tbody tr th {\n",
       "        vertical-align: top;\n",
       "    }\n",
       "\n",
       "    .dataframe thead th {\n",
       "        text-align: right;\n",
       "    }\n",
       "</style>\n",
       "<table border=\"1\" class=\"dataframe\">\n",
       "  <thead>\n",
       "    <tr style=\"text-align: right;\">\n",
       "      <th></th>\n",
       "      <th>Unnamed: 0.1</th>\n",
       "      <th>Unnamed: 0</th>\n",
       "      <th>jc_number</th>\n",
       "      <th>filename</th>\n",
       "      <th>path</th>\n",
       "      <th>pdf_text</th>\n",
       "      <th>nl_text</th>\n",
       "      <th>fr_text</th>\n",
       "      <th>class</th>\n",
       "      <th>key_words</th>\n",
       "    </tr>\n",
       "  </thead>\n",
       "  <tbody>\n",
       "    <tr>\n",
       "      <th>0</th>\n",
       "      <td>0</td>\n",
       "      <td>1116</td>\n",
       "      <td>119.0</td>\n",
       "      <td>119-2022-011460.pdf</td>\n",
       "      <td>../../wetransfer_a_2022-12-09_1528/A/119/119-2...</td>\n",
       "      <td>Neerlegging-Dépôt: 11/07/2022\\nRegist.-Enregis...</td>\n",
       "      <td>Regist.-Enregislr.: 24/08/2022\\nPARITAIR COMIT...</td>\n",
       "      <td>Neerlegging-Dépôt: 11/07/2022\\nN\": 174588/CO/1...</td>\n",
       "      <td>2</td>\n",
       "      <td>[l, gebracht, dagvergoeding, vermeld, uitkerin...</td>\n",
       "    </tr>\n",
       "    <tr>\n",
       "      <th>1</th>\n",
       "      <td>1</td>\n",
       "      <td>1117</td>\n",
       "      <td>119.0</td>\n",
       "      <td>119-2022-009775.pdf</td>\n",
       "      <td>../../wetransfer_a_2022-12-09_1528/A/119/119-2...</td>\n",
       "      <td>Neerlegging-Dépôt: 10/05/2022\\nRegist.-Enregis...</td>\n",
       "      <td>Regist.-Enregislr.: 23/08/2022\\nPARITAIR COMIT...</td>\n",
       "      <td>Neerlegging-Dépôt: 10/05/2022\\nN°: 174516/CO/1...</td>\n",
       "      <td>1</td>\n",
       "      <td>[syndicale, werkgever, ten, risicogroepen, bep...</td>\n",
       "    </tr>\n",
       "    <tr>\n",
       "      <th>2</th>\n",
       "      <td>2</td>\n",
       "      <td>1118</td>\n",
       "      <td>119.0</td>\n",
       "      <td>119-2022-004480.pdf</td>\n",
       "      <td>../../wetransfer_a_2022-12-09_1528/A/119/119-2...</td>\n",
       "      <td>Neerlegging-Dépôt: 30/03/2022\\nRegist.-Enregis...</td>\n",
       "      <td>Regist.-Enregistr.: 15/07/2022\\nPARITAIR COMIT...</td>\n",
       "      <td>Neerlegging-Dépôt: 30/03/2022\\nN\": 174141/CO/1...</td>\n",
       "      <td>1</td>\n",
       "      <td>[syndicale, werkgever, ten, risicogroepen, bep...</td>\n",
       "    </tr>\n",
       "    <tr>\n",
       "      <th>3</th>\n",
       "      <td>3</td>\n",
       "      <td>1119</td>\n",
       "      <td>119.0</td>\n",
       "      <td>119-2022-000648.pdf</td>\n",
       "      <td>../../wetransfer_a_2022-12-09_1528/A/119/119-2...</td>\n",
       "      <td>Neerlegging-Dépôt:\\nRegist. -Enregistr.: 04/04...</td>\n",
       "      <td>Regist. -Enregistr.: 04/04/2022\\nPARITAIR COMI...</td>\n",
       "      <td>Neerlegging-Dépôt:\\nN\": 171599/CO/119\\n18/01/2...</td>\n",
       "      <td>0</td>\n",
       "      <td>[premie, betaald, bedrijfswinst, verhouding, m...</td>\n",
       "    </tr>\n",
       "    <tr>\n",
       "      <th>4</th>\n",
       "      <td>4</td>\n",
       "      <td>1120</td>\n",
       "      <td>119.0</td>\n",
       "      <td>119-2022-000014.pdf</td>\n",
       "      <td>../../wetransfer_a_2022-12-09_1528/A/119/119-2...</td>\n",
       "      <td>Neerlegging-Dépôt:\\nRegist.-Enregistr.: 08/04/...</td>\n",
       "      <td>Regist.-Enregistr.: 08/04/2022\\nPARITAIR COMIT...</td>\n",
       "      <td>Neerlegging-Dépôt:\\nN°: 171931/CO/119\\n05/01/2...</td>\n",
       "      <td>2</td>\n",
       "      <td>[l, gebracht, dagvergoeding, vermeld, uitkerin...</td>\n",
       "    </tr>\n",
       "  </tbody>\n",
       "</table>\n",
       "</div>"
      ],
      "text/plain": [
       "   Unnamed: 0.1  Unnamed: 0  jc_number             filename  \\\n",
       "0             0        1116      119.0  119-2022-011460.pdf   \n",
       "1             1        1117      119.0  119-2022-009775.pdf   \n",
       "2             2        1118      119.0  119-2022-004480.pdf   \n",
       "3             3        1119      119.0  119-2022-000648.pdf   \n",
       "4             4        1120      119.0  119-2022-000014.pdf   \n",
       "\n",
       "                                                path  \\\n",
       "0  ../../wetransfer_a_2022-12-09_1528/A/119/119-2...   \n",
       "1  ../../wetransfer_a_2022-12-09_1528/A/119/119-2...   \n",
       "2  ../../wetransfer_a_2022-12-09_1528/A/119/119-2...   \n",
       "3  ../../wetransfer_a_2022-12-09_1528/A/119/119-2...   \n",
       "4  ../../wetransfer_a_2022-12-09_1528/A/119/119-2...   \n",
       "\n",
       "                                            pdf_text  \\\n",
       "0  Neerlegging-Dépôt: 11/07/2022\\nRegist.-Enregis...   \n",
       "1  Neerlegging-Dépôt: 10/05/2022\\nRegist.-Enregis...   \n",
       "2  Neerlegging-Dépôt: 30/03/2022\\nRegist.-Enregis...   \n",
       "3  Neerlegging-Dépôt:\\nRegist. -Enregistr.: 04/04...   \n",
       "4  Neerlegging-Dépôt:\\nRegist.-Enregistr.: 08/04/...   \n",
       "\n",
       "                                             nl_text  \\\n",
       "0  Regist.-Enregislr.: 24/08/2022\\nPARITAIR COMIT...   \n",
       "1  Regist.-Enregislr.: 23/08/2022\\nPARITAIR COMIT...   \n",
       "2  Regist.-Enregistr.: 15/07/2022\\nPARITAIR COMIT...   \n",
       "3  Regist. -Enregistr.: 04/04/2022\\nPARITAIR COMI...   \n",
       "4  Regist.-Enregistr.: 08/04/2022\\nPARITAIR COMIT...   \n",
       "\n",
       "                                             fr_text  class  \\\n",
       "0  Neerlegging-Dépôt: 11/07/2022\\nN\": 174588/CO/1...      2   \n",
       "1  Neerlegging-Dépôt: 10/05/2022\\nN°: 174516/CO/1...      1   \n",
       "2  Neerlegging-Dépôt: 30/03/2022\\nN\": 174141/CO/1...      1   \n",
       "3  Neerlegging-Dépôt:\\nN\": 171599/CO/119\\n18/01/2...      0   \n",
       "4  Neerlegging-Dépôt:\\nN°: 171931/CO/119\\n05/01/2...      2   \n",
       "\n",
       "                                           key_words  \n",
       "0  [l, gebracht, dagvergoeding, vermeld, uitkerin...  \n",
       "1  [syndicale, werkgever, ten, risicogroepen, bep...  \n",
       "2  [syndicale, werkgever, ten, risicogroepen, bep...  \n",
       "3  [premie, betaald, bedrijfswinst, verhouding, m...  \n",
       "4  [l, gebracht, dagvergoeding, vermeld, uitkerin...  "
      ]
     },
     "execution_count": 60,
     "metadata": {},
     "output_type": "execute_result"
    }
   ],
   "source": [
    "jc_number['key_words'] = jc_number.apply( lambda row : unique_keys[row['class']], axis = 1) \n",
    "jc_number.head()"
   ]
  },
  {
   "cell_type": "code",
   "execution_count": 75,
   "metadata": {},
   "outputs": [],
   "source": [
    "test_202 = pd.read_csv(r\"C:\\Users\\Olga\\Becode_Olga\\KPMG-Team-3\\data_csv\\C\\jc_202_0.csv\")\n",
    "new_test = test_202['nl_text'].iloc[11] ## premie jc_119"
   ]
  },
  {
   "cell_type": "code",
   "execution_count": 76,
   "metadata": {},
   "outputs": [],
   "source": [
    "test = vectorizer.transform([new_test])"
   ]
  },
  {
   "cell_type": "code",
   "execution_count": 77,
   "metadata": {},
   "outputs": [
    {
     "data": {
      "text/plain": [
       "<1x1403 sparse matrix of type '<class 'numpy.float64'>'\n",
       "\twith 112 stored elements in Compressed Sparse Row format>"
      ]
     },
     "execution_count": 77,
     "metadata": {},
     "output_type": "execute_result"
    }
   ],
   "source": [
    "test"
   ]
  },
  {
   "cell_type": "code",
   "execution_count": 80,
   "metadata": {},
   "outputs": [
    {
     "data": {
      "text/plain": [
       "array([0])"
      ]
     },
     "execution_count": 80,
     "metadata": {},
     "output_type": "execute_result"
    }
   ],
   "source": [
    "class_defined = km.predict(test)\n",
    "class_defined"
   ]
  },
  {
   "cell_type": "code",
   "execution_count": 98,
   "metadata": {},
   "outputs": [],
   "source": [
    "# Summarization\n",
    "\n",
    "def get_context(text, freq_words):\n",
    "    sents = sent_tokenize(text)\n",
    "    freq = FreqDist(freq_words)\n",
    "    ranking = defaultdict(int)\n",
    "\n",
    "    for i,sent in enumerate(sents):\n",
    "        for w in word_tokenize(sent.lower()):\n",
    "            if w in freq:\n",
    "                ranking[i] += freq[w]\n",
    "                \n",
    "    sents_idx = nlargest(6, ranking, key=ranking.get)\n",
    "    return [sents[j].replace('\\n', ' ')  for j in sorted(sents_idx)]"
   ]
  },
  {
   "cell_type": "code",
   "execution_count": 100,
   "metadata": {},
   "outputs": [
    {
     "name": "stdout",
     "output_type": "stream",
     "text": [
      ": PARITAIR COMITE VOOR DE HANDEL IN VOEDI NGSWAREN COLLECTIEVE ARBEIDSOVEREENKOMST VAN 22 NOVEMBER 2021 BETREFFENDE DE JAARLIJKSE PREMIE BETAALBAAR IN HOOFDSTUK 1- TOEPASSINGSGEBIED Artikell - § 1.\n",
      "Deze collectieve is van toepassing op de arbeidsovereenkomst werkgevers en op de arbeiders die onder de bevoegdheid vallen van het Paritair comité voor de handel in voedingswaren.\n",
      "HOOFDSTUK 2 - JAARLIJKSE PREMIE BETAALBAAR IN DECEMBER Artikel2 - Onverminderd de bepalingen van artikel5 wordt.in de bedrijven waar de premie van 100 euro voorzien in de CAO van 27 & augustus 2007 (geregistreerd onder het nummer 84943/CO/119 en algemeen verbindend verklaard bij KB van 19 februari 2008) tot toekenning van een jaarlijkse premie in december niet werd omgezet gelijkwaardig voordeel, een jaarlijkse premie toegekend aan alle arbeiders die minstens één maand dienstprestaties leverden in de loop van het jaar waarin de premie betaald wordt.\n",
      "De premie bedraagt 112,20 euro voor de arbeiders die werden tewerkgesteld gedurende het ganse jaar waarin de premie betaald wordt.\n",
      "Voor de andere arbeiders bedraagt de premie een twaalfde van het voornoemd bedrag per volle maand arbeidsprestaties in de loop van het jaar waarin de premie betaald wordt; onder één maand wordt verstaan een ononderbroken periode van 30 kalenderdagen (28/29 in februari).\n",
      "ArtikelS - De premie waarvan sprake in de artikelen 2 tot 4 is niet automatisch verschuldigd in de ondernemingen waar gelijkaardige voordelen in de loop van het jaar waarin de jaarlijkse premie betaald wordt, effectief toegekend, deze bedragen reeds bereiken of overschrijden.\n",
      "\n",
      "*********************************************\n",
      "\n",
      ": PARITAIR COMITE VOOR DE HANDEL IN VOEDINGSWAREN COLLECTIEVE ARBEIDSOVEREENKOMST VAN 22 PLOEGENPREMIES EN DE NAMIDDAGPREMIE HOOFDSTUK 1- TOEPASSINGSGEBIED Artike/l - § 1.\n",
      "Deze collectieve arbeidsovereenkomst werkgevers en op de arbeiders van de de handel in is van toepassing op de voedingswaren, met uitzondering van de slagerijen, spekslagerijen en penserijen.\n",
      "vrouwelijke HOOFDSTUK 2 - PLOEGENPREMIES - Een premie gelijk aan een uurtoeslag Artike/2 van 0,27 euro wordt geleverd in ploegen vanaf 1 januari 2022. toegekend voor de arbeid Behalve wanneer het anders voorzien wordt het arbeidsreglement, worden de arbeidsuren van de ploegen als volgt vastgesteld: in voor de morgenploeg : van 6 tot 14 uur; voor de namiddagploeg : van 14 tot 22 uur.\n",
      "Deze premies zijn niet van toepassing voor de uren waarvoor de arbeiders premies voor nachtarbeid, de namiddagpremie of de premie voor laatavondopeningen genieten.\n",
      "HOOFDSTUK 3 - NAMIDDAGPREMIE ingang van 1 januari 2022 wordt Artike/3 - Met aan de arbeiders die prestaties aanvangen vanaf 13 uur of later, vanaf 14 uur een premie toegekend van 0,27 euro per uur.\n",
      "noch HOOFDSTUK 4 - SLOTBEPALINGEN Artike/4 - Deze collectieve arbeidsovereenkomst arbeidsovereenkomst geregistreerd onder het nummer vervangt de collectieve van 3 december 2019, Zij wordt afgesloten voor een onbepaalde duur in werking op 1 januari 2022.\n",
      "\n",
      "*********************************************\n",
      "\n",
      ": 14/12/2021 PARITAIR COMITE VOOR DE HANDEL IN VOEDI NGSWAREN COLLECTIEVE ARBEIDSOVEREENKOMST VAN 22 NOVEMBER 2021 TOT TOEKENNING VAN EEN EENMALIGE PREMIE IN UITVOERING VAN HET SECTORAKKOORD 2021-2022 HOOFDSTUK 1 - TOEPASSINGSGEBIED Artikell - § 1.\n",
      "Deze collectieve is van toepassing op de arbeidsovereenkomst werkgevers en op de arbeiders van de ondernemingen vallen van het Paritair comité voor de handel die onder de bevoegdheid in voedingswaren.\n",
      "is, zal een éénmalige - De premie bedraagt 130 euro bruto Artikel3 en zal betaald worden samen met de eindejaarspremie maar zal niet in aanmerking komen voor de berekening van de eindejaarspremie.\n",
      "Artikel4 - De premie kan via bedrijfsakkoord omgezet worden in één van de volgende voordelen, of een ander equivalent voordeel*1, voor zover dit wettelijk mogelijk is: o 40 euro cadeaucheques en een o bruto premie van 98 euro; 1Voor zover dit gelijkwaardig voordeel de kost van de hogervermelde eenmalige premie van 130 euro niet overschrijdt of niet lager is.\n",
      "o 80 euro cadeaucheques en een bruto premie van 66 euro; o ArtikelS - Het bedrag van deze premie zal berekend worden: naar verhouding van het aantal kalendermaanden de werknemers onder contract geweest zijn in 2021, en gedurende dewelke voor de deeltijdse werknemers naar verhouding van het aantal kalendermaanden contractuele arbeidsduur.\n",
      "en van hun HOOFDSTUK 3 - SLOTBEPALINGEN Artikel 6 - Deze collectieve arbeidsovereenkomst heeft uitwerking vanaf 1 januari 2021.\n",
      "\n",
      "*********************************************\n",
      "\n",
      "Concertation sociale Federale overheidsdienst Werkgelegenheid, Arbeid en SociaalOverleg TREKKINGEN Directie van de Griffie Paritair Comité voor de handel in voedingswa- CAO nr.\n",
      ": 30/11/2021 PARITAIR COMITE VOOR DE HANDEl IN VOEDINGSWAREN VAN 22 NOVEMBER 2021 TOT TOEI<ENNING VAN EEN CORONAPREMIE IN UITVOERING VAN HET SECTORAI<I<OORD 2021-2022 HOOFDSTUI< 1- TOEPASSINGSGEBIED Artikell arbeidsovereenkomst - § 1.\n",
      "Deze collectieve is van toepassing op de werkgevers en op de arbeiders van de ondernemingen vallen van het Paritair comité voor de handel die onder de bevoegdheid in voedingswaren.\n",
      "Het bedrag van deze premie zal afhangen van het aantal werknemers met een die goede resultaten hebben van studenten) van voor arbeidsovereenkomst in de onderneming (volgens dezelfde berekening als voor de barema's), en van de bedrijfswinst in 2019 en 2020: Ondernemingen met minder dan 50 werknemers: Positieve bedrijfswinst in 2019 en 2020: Negatieve bedrijfswinst in 2019 en/of 2020: geen coronapremie .. Ondernemingen met 50 werknemers en meer: .. .. .. Positieve bedrijfswinst in 2019 en 2020: Positieve bedrijfswinst in 2019: 200 euro in 2020 maar Negatieve bedrijfswinst in 2020: geen .. - Werknemers die in dienst zijn op 29 Artikel3 oktober 2021 komen in aanmerking voor de premie op voorwaarde dat zij tussen 1 april 2020 en 31 maart 2021 in de onderneming hebben gewerkt en naar verhouding van het gedurende dewelke aantal kalendermaanden de werknemer onder contract is geweest (exclusief de periode van langdurige ziekte, zoals bepaald in het KB van 30 maart 1967, zijnde de ziekteperiode die de 12 kalendermaanden overschrijdt).\n",
      "premie toegekend naar rato ArtikelS - Werknemers die na 31 maart 2021 in dienst werden genomen, komen niet in aanmerking voor de bovengenoemde - Deze coronapremie Artikel6 premie die tegelijk met de eindejaarspremie van 2021 zal worden uitbetaald.\n",
      "HOOFDSTUK 3 - SLOTBEPALINGEN Artikel8 - Deze collectieve arbeidsovereenkomst januari 2021.\n",
      "\n",
      "*********************************************\n",
      "\n",
      "156926/CO/119 van 03/12/2019 Verbetering van de Nederlandstalige tekst comme suit: « De keuze tussen de premie en de omzetting ervan moet gemaakt worden voor 15 december 2019.\n",
      "akkoord gebrek over voor keuze tussen Artikel 4, de laatste alinea moet als volgt «De verbeterd worden: premie en de omzetting ervan moet gemaakt worden 15 december gekozen wordt voor een omzetting van de premie, zal de onderhandeling hiervoor lopen tussen 10 januari en 14 februari 2020.\n",
      ": PARITAIR COMITE VOOR DE HANDEL IN VOEDINGSWAREN COLLECTIEVE ARBEIDSOVEREENKOMST VAN 3 DECEMBER 2019 TOT TOEKENNING VAN EEN EENMALIGE PREMIE IN UITVOERING VAN HET SECTORAKKOORD 2019-2020 HOOFDSTUK 1 - TOEPASSINGSGEBIED Artikel1 - § 1.\n",
      "Deze collectieve arbeidsovereenkomst is van toepassing op de werkgevers en op de arbeiders van de ondernemingen vallen van het Paritair comité voor de handel die onder de bevoegdheid voedingswaren.\n",
      "Artikel4 - De premie kan via ondernemingscao omgezet worden in één van de volgende voordelen, of een ander equivalent voordeel+', voor zover dit wettelijk mogelijk is: 250 euro ecocheques en een brutopremie van 58 euro; o 35 euro cadeaucheques en een bruto premie van 209 euro; o 1 Voor zover dit gelijkwaardig voordeel de kost van de hogervermelde eenmalige premie van 234 euro niet overschrijdt of niet lager is.\n",
      "o 70 euro cadeaucheques en een bruto premie van 185 euro; De keuze tussen de premie en de omzetting ervan moet gemaakt worden voor 15 december+ Indien gekozen wordt voor een omzetting van de premie, zal de lopen tussen LO onderhandeling hiervoor januari en 14 februari 2020.\n",
      "\n",
      "*********************************************\n",
      "\n",
      ": PARITAIR COMITE VOOR DE HANDEL IN VOEDINGSWAREN COllECTIEVE ARBEIDSOVEREENKOMST VAN 3 DECEMBER 2019 BETREFFENDE DE JAARLIJKSE PREMIE BETAALBAAR IN DECEMBER HOOFDSTUK 1- TOEPASSINGSGEBIED Artikel1 - § 1.\n",
      "Deze collectieve arbeidsovereenkomst werkgevers en op de arbeiders die onder de bevoegdheid vallen van het Paritair comité voor is van toepassing op de de handel in voedingswaren.\n",
      "HOOFDSTUK 2 - JAARLIJKSE PREMIE BETAALBAAR IN DECEMBER Artikel2 - Onverminderd de bepalingen van artikel S, wordt van 100 euro voorzien in de CAO van 27 augustus 2007 (geregistreerd onder het nummer in de bedrijven waar de premie 84943/CO/119 en algemeen verbindend verklaard bij KB van 19 februari 2008) tot toekenning van een jaarlijkse premie in december niet werd omgezet gelijkwaardig voordeel, een jaarlijkse premie toegekend aan alle arbeiders die minstens één leverden in de loop van maand dienstprestaties in een het jaar waarin de premie betaald wordt.\n",
      "De premie bedraagt 112,20 euro voor de arbeiders die werden tewerkgesteld gedurende het ganse jaar waarin de premie betaald wordt.\n",
      "Voor de andere arbeiders bedraagt de premie een twaalfde van het voornoemd bedrag in de loop van per volle maand arbeidsprestaties het jaar waarin de premie betaald wordt; onder één maand wordt verstaan een ononderbroken periode van 30 kalenderdagen (28/29 in februari).\n",
      "ArtikelS - De premie waarvan sprake in de artikelen 2 tot 4 is niet automatisch verschuldigd in de ondernemingen waar gelijkaardige voordelen in de loop van het jaar waarin de jaarlijkse premie betaald wordt, effectief toegekend, deze bedragen reeds bereiken of overschrijden.\n",
      "\n",
      "*********************************************\n",
      "\n",
      ": PARITAIR COMITE VOOR DE HANDEL IN VOEDINGSWAREN COLLECTIEVE ARBEIDSOVEREENKOMST VAN PLOEGENPREMIES EN DE NAMIDDAGPREMIE HOOFDSTUK 1 - TOEPASSINGSGEBIED Artike/1 - § 1.\n",
      "Deze collectieve arbeidsovereenkomst werkgevers en op de arbeiders van de is van toepassing op de van de handel ondernemingen voedingswaren, met uitzondering van de slagerijen, spekslagerijen en penserijen.\n",
      "vrouwelijke HOOFDSTUK 2 - PLOEGENPREMIES Artike/2 - Een premie gelijk aan een uurtoeslag van 0,26 euro wordt toegekend voor de arbeid geleverd in ploegen vanaf 1 januari 2020.\n",
      "Deze premies zijn niet van toepassing voor de uren waarvoor de arbeiders premies voor nachtarbeid, de namiddagpremie voor laatavondopeningen of de premie genieten.\n",
      "HOOFDSTUK 3 - NAMIDDAGPREMIE ingang van 1 januari 2020 wordt Artikel3 - Met aan de arbeiders die prestaties aanvangen vanaf 13 uur of later, vanaf 14 uur een premie toegekend van 0,26 euro per uur.\n",
      "noch HOOFDSTUK 4 - SLOTBEPALINGEN Artike/4 - Deze collectieve arbeidsovereenkomst arbeidsovereenkomst geregistreerd onder het nummer vervangt de collectieve van 5 juli 2017, Zij wordt afgesloten voor een onbepaalde duur in werking op 1 januari 2020.\n",
      "\n",
      "*********************************************\n",
      "\n",
      ": PARITAIR COMITE VOOR DE HANDEl IN VOEDINGSWAREN COLLECTIEVE ARBEIDSOVEREENKOMST VAN PREMIE VOOR LANGDURIGE WERKLOZEN is van toepassing op de - Deze collectieve Artike/l arbeidsovereenkomst werkgevers en op de arbeiders van de ondernemingen Paritair comité voor de handel voedingswaren.\n",
      "vrouwelijke Een syndicale premie wordt uitbetaald aan de afgedankte arbeiders (behalve om dringende redenen afgedankte werknemers) volledige werkloosheid.\n",
      "ingeval van Artike/2 - Voorwaarden voor het verkrijgen van van de en er een tewerkgesteld De begunstigde moet geweest zijn in een onderneming handel in voedingswaren syndicale premie ten laste van het Sociaal Fonds voor de handel in voedingswaren genoten hebben, gedurende de periode voorafgaand aan de periode van werkloosheid.\n",
      "Artikel3 - Bedrag van de syndicale premie: Het bedrag van de syndicale premie wordt vastgesteld, per volle kalendermaand op 4,68 EUR (of per jaar voor de begunstigde die gedurende 12 volle kalendermaanden werkloos is, op 56,20 EUR).\n",
      "Artikel4 - Deze collectieve arbeidsovereenkomst maart 2012 (109275/CO/119) treedt van kracht vervangt de CAO van 14 en heft ze op.\n",
      "Op 1 januari van elk jaar wordt zij stilzwijgend verlengd voor een periode van één jaar, behoudens opzegging door één van de partijen uiterlijk drie maanden vóór het verstrijken van de collectieve arbeidsovereenkomst aangetekende brief gericht aan de Voorzitter van het P.c.\n",
      "\n",
      "*********************************************\n",
      "\n"
     ]
    }
   ],
   "source": [
    "### Main summary function\n",
    "\n",
    "dic_words = {\n",
    "            'cluster_0' : ['premie', 'jaarlijkse','december', 'betaald', 'betaalbaar',  'collectieve', 'arbeidsovereenkomst', 'betreffende', 'commission','paritair', 'bedienden']\n",
    "\n",
    "            }\n",
    "search_words =  dic_words ['cluster_0']         \n",
    "## Get text. \n",
    "rows = [9,13,15,20,37,38,39,44]  ## premie jc_119\n",
    "\n",
    "for i in rows:\n",
    "    text = jc_number['nl_text'].iloc[i]  \n",
    "    context = get_context(text, search_words)\n",
    "    print('\\n'.join(context))\n",
    "    print('\\n*********************************************\\n')\n"
   ]
  },
  {
   "cell_type": "code",
   "execution_count": null,
   "metadata": {},
   "outputs": [],
   "source": []
  }
 ],
 "metadata": {
  "kernelspec": {
   "display_name": "Python 3",
   "language": "python",
   "name": "python3"
  },
  "language_info": {
   "codemirror_mode": {
    "name": "ipython",
    "version": 3
   },
   "file_extension": ".py",
   "mimetype": "text/x-python",
   "name": "python",
   "nbconvert_exporter": "python",
   "pygments_lexer": "ipython3",
   "version": "3.10.5"
  },
  "orig_nbformat": 4,
  "vscode": {
   "interpreter": {
    "hash": "26de051ba29f2982a8de78e945f0abaf191376122a1563185a90213a26c5da77"
   }
  }
 },
 "nbformat": 4,
 "nbformat_minor": 2
}
