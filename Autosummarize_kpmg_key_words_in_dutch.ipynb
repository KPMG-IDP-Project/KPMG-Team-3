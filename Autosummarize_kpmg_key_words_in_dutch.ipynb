{
 "cells": [
  {
   "cell_type": "code",
   "execution_count": 5,
   "metadata": {},
   "outputs": [],
   "source": [
    "# These are documents about jaarlijkse premie \n",
    "\n",
    "pd_data = pd.read_csv(r\"C:\\Users\\Olga\\Becode_Olga\\KPMG-Team-3\\data_csv\\A.1.\\jc_119_0.csv\")\n",
    "#text = pd_data['pdf_text'].iloc[9]  #jaarlijkse premie\n",
    "#text = pd_data['pdf_text'].iloc[38]  #jaarlijkse premie\n",
    "pd_data_136 = pd.read_csv(r\"C:\\Users\\Olga\\Becode_Olga\\KPMG-Team-3\\data_csv\\A.2.\\jc_136_0.csv\")\n",
    "#text = pd_data_136['pdf_text'].iloc[0]  #jaarlijkse premie\n",
    "#text = pd_data_136['pdf_text'].iloc[22]  #jaarlijkse premie\n",
    "pd_data_202 = pd.read_csv(r\"C:\\Users\\Olga\\Becode_Olga\\KPMG-Team-3\\data_csv\\B.1.\\jc_202_0.csv\")\n",
    "#text = pd_data_202['pdf_text'].iloc[11]  #jaarlijkse premie\n",
    "#text = pd_data_202['pdf_text'].iloc[16]  #jaarlijkse premie\n",
    "pd_data_222 = pd.read_csv(r\"C:\\Users\\Olga\\Becode_Olga\\KPMG-Team-3\\data_csv\\B.1.\\jc_222_0.csv\")\n",
    "#text = pd_data_222['pdf_text'].iloc[0]  #jaarlijkse premie\n",
    "#text = pd_data_222['pdf_text'].iloc[24]  #jaarlijkse premie\n",
    "pd_data_311 = pd.read_csv(r\"C:\\Users\\Olga\\Becode_Olga\\KPMG-Team-3\\data_csv\\B.2.\\jc_311_0.csv\")\n",
    "#text = pd_data_311['pdf_text'].iloc[9]  #jaarlijkse premie\n",
    "text = pd_data_311['pdf_text'].iloc[18]  #jaarlijkse premie\n",
    "\n",
    "#We can check on the folder 312 - based on metadata - there are 2 docs about jaarlijkse premie"
   ]
  },
  {
   "cell_type": "code",
   "execution_count": null,
   "metadata": {},
   "outputs": [],
   "source": [
    "from nltk.tokenize import sent_tokenize,word_tokenize\n",
    "from nltk.probability import FreqDist\n",
    "from heapq import nlargest\n",
    "from collections import defaultdict\n",
    "import pandas as pd"
   ]
  },
  {
   "cell_type": "code",
   "execution_count": 6,
   "metadata": {},
   "outputs": [],
   "source": [
    "def get_context(text, freq_words):\n",
    "    sents = sent_tokenize(text)\n",
    "    freq = FreqDist(freq_words)\n",
    "    ranking = defaultdict(int)\n",
    "\n",
    "    for i,sent in enumerate(sents):\n",
    "        for w in word_tokenize(sent.lower()):\n",
    "            if w in freq:\n",
    "                ranking[i] += freq[w]\n",
    "                \n",
    "    sents_idx = nlargest(6, ranking, key=ranking.get)\n",
    "    return [sents[j] for j in sorted(sents_idx)]"
   ]
  },
  {
   "cell_type": "code",
   "execution_count": 8,
   "metadata": {},
   "outputs": [
    {
     "name": "stdout",
     "output_type": "stream",
     "text": [
      "[\": 16/02/2022\\nW 170260/CO/311\\n\\n07/12/2021\\n\\nPARITAIR COMITE VOOR DE GROTE\\nKLEINHANDElSZAKEN\\n\\nCOMMISSION PARITAIRE I\\n\\nJy,ES GRANDES\\n\\nENTREPRISES DE VENTE AU DETAIL\\n\\nPC311\\n\\nCP 311\\n\\nCOLLECTIEVE ARBEIDSOVEREENKOMST\\nVAN\\n23 NOVEMBER 2021 TOT TOEKENNING VAN\\nEEN JAARLlJI<SE PREMIE IN UITVOERING VAN\\nHET SECTORAKKOORD 2015-2016\\n\\nCONVENTION COLLECTIVE DE TRAVAIL DU\\n23 NOVEMBRE 2021 RELATIVE A L'OCTROI\\nD'UNE PRIME ANNUELLE EN EXECUTION DE\\nL'ACCORD SECTORIEL 2015-2016\\n\\nHOOFDSTUK 1 - TOEPASSINGSGEBIED\\n\\nCHAPITRE 1- CHAMP D'APPLICATION\\n\\nArtike/l\\n\\n- § 1.\", 'Deze collectieve\\n\\nis van toepassing op de\\n\\narbeidsovereenkomst\\nwerkgevers en op de werknemers\\nondernemingen welke ressorteren onder het\\nParitair comité voor de grote kleinhandelszaken\\n\\nvan de\\n\\nArticle 1 - § 1.', 'De brutopremie\\neerste keer in de maand juni 2016 samen met\\nde jaarlijkse premie van 70 EUR daar waar die\\n\\nzal worden betaald voor de\\n\\n§ 2.', 'Voor de werknemer al in dienst vóór 1 januari\\n2016 of in dienst gekomen na 1 januari 2016,\\nwaarvan de arbeidsovereenkomst\\n\\nwordt\\n\\nbeëindigd vóór juni 2016, worden slechts de\\nmaanden gepresteerd vanaf 1 januari 2016 in\\naanmerking\\n\\n, genomen voor de\\n\\nberekening van de geproratiseerde\\n\\npremie.', 'Dans les entreprises qui sont passées d\\'une\\nautre commission paritaire à celle des\\n\\nparitair comité voor de\\nkleinhande\\\\<>b~~k&?t\"\\nworden omgezet\\nvermeld in artikel 3, § 1 bij collectieve\\narbeidsovereenkomst\\n\\nin evenwaardige voordelen\\n\\ngesloten op bedrijfsvlak.', 'HOOFDSTUK 3 - SLOTBEPALINGEN\\n\\nCHAPITRE 3 - DISPOSITIONS FINALES\\n\\nArtike/4 - Deze collectieve\\narbeidsovereenkomst\\n\\ntreedt\\n\\nin werking op 23\\n\\nnovember 2021 en vervangt collectieve\\narbeidsovereenkomst\\ntot\\nuitvoering van het sectorakkoord\\n(142002/CO/311).']\n",
      "\n",
      "\n",
      "\n",
      "[\": 16/02/2022\\nW 170260/CO/311\\n\\n07/12/2021\\n\\nPARITAIR COMITE VOOR DE GROTE\\nKLEINHANDElSZAKEN\\n\\nCOMMISSION PARITAIRE I\\n\\nJy,ES GRANDES\\n\\nENTREPRISES DE VENTE AU DETAIL\\n\\nPC311\\n\\nCP 311\\n\\nCOLLECTIEVE ARBEIDSOVEREENKOMST\\nVAN\\n23 NOVEMBER 2021 TOT TOEKENNING VAN\\nEEN JAARLlJI<SE PREMIE IN UITVOERING VAN\\nHET SECTORAKKOORD 2015-2016\\n\\nCONVENTION COLLECTIVE DE TRAVAIL DU\\n23 NOVEMBRE 2021 RELATIVE A L'OCTROI\\nD'UNE PRIME ANNUELLE EN EXECUTION DE\\nL'ACCORD SECTORIEL 2015-2016\\n\\nHOOFDSTUK 1 - TOEPASSINGSGEBIED\\n\\nCHAPITRE 1- CHAMP D'APPLICATION\\n\\nArtike/l\\n\\n- § 1.\", 'Deze collectieve\\n\\nis van toepassing op de\\n\\narbeidsovereenkomst\\nwerkgevers en op de werknemers\\nondernemingen welke ressorteren onder het\\nParitair comité voor de grote kleinhandelszaken\\n\\nvan de\\n\\nArticle 1 - § 1.', 'De brutopremie\\neerste keer in de maand juni 2016 samen met\\nde jaarlijkse premie van 70 EUR daar waar die\\n\\nzal worden betaald voor de\\n\\n§ 2.', 'Voor de werknemer al in dienst vóór 1 januari\\n2016 of in dienst gekomen na 1 januari 2016,\\nwaarvan de arbeidsovereenkomst\\n\\nwordt\\n\\nbeëindigd vóór juni 2016, worden slechts de\\nmaanden gepresteerd vanaf 1 januari 2016 in\\naanmerking\\n\\n, genomen voor de\\n\\nberekening van de geproratiseerde\\n\\npremie.', 'Dans les entreprises qui sont passées d\\'une\\nautre commission paritaire à celle des\\n\\nparitair comité voor de\\nkleinhande\\\\<>b~~k&?t\"\\nworden omgezet\\nvermeld in artikel 3, § 1 bij collectieve\\narbeidsovereenkomst\\n\\nin evenwaardige voordelen\\n\\ngesloten op bedrijfsvlak.', 'HOOFDSTUK 3 - SLOTBEPALINGEN\\n\\nCHAPITRE 3 - DISPOSITIONS FINALES\\n\\nArtike/4 - Deze collectieve\\narbeidsovereenkomst\\n\\ntreedt\\n\\nin werking op 23\\n\\nnovember 2021 en vervangt collectieve\\narbeidsovereenkomst\\ntot\\nuitvoering van het sectorakkoord\\n(142002/CO/311).']\n",
      "\n",
      "\n",
      "\n",
      "[\": 16/02/2022\\nW 170260/CO/311\\n\\n07/12/2021\\n\\nPARITAIR COMITE VOOR DE GROTE\\nKLEINHANDElSZAKEN\\n\\nCOMMISSION PARITAIRE I\\n\\nJy,ES GRANDES\\n\\nENTREPRISES DE VENTE AU DETAIL\\n\\nPC311\\n\\nCP 311\\n\\nCOLLECTIEVE ARBEIDSOVEREENKOMST\\nVAN\\n23 NOVEMBER 2021 TOT TOEKENNING VAN\\nEEN JAARLlJI<SE PREMIE IN UITVOERING VAN\\nHET SECTORAKKOORD 2015-2016\\n\\nCONVENTION COLLECTIVE DE TRAVAIL DU\\n23 NOVEMBRE 2021 RELATIVE A L'OCTROI\\nD'UNE PRIME ANNUELLE EN EXECUTION DE\\nL'ACCORD SECTORIEL 2015-2016\\n\\nHOOFDSTUK 1 - TOEPASSINGSGEBIED\\n\\nCHAPITRE 1- CHAMP D'APPLICATION\\n\\nArtike/l\\n\\n- § 1.\", 'Deze collectieve\\n\\nis van toepassing op de\\n\\narbeidsovereenkomst\\nwerkgevers en op de werknemers\\nondernemingen welke ressorteren onder het\\nParitair comité voor de grote kleinhandelszaken\\n\\nvan de\\n\\nArticle 1 - § 1.', 'De brutopremie\\neerste keer in de maand juni 2016 samen met\\nde jaarlijkse premie van 70 EUR daar waar die\\n\\nzal worden betaald voor de\\n\\n§ 2.', 'Voor de werknemer al in dienst vóór 1 januari\\n2016 of in dienst gekomen na 1 januari 2016,\\nwaarvan de arbeidsovereenkomst\\n\\nwordt\\n\\nbeëindigd vóór juni 2016, worden slechts de\\nmaanden gepresteerd vanaf 1 januari 2016 in\\naanmerking\\n\\n, genomen voor de\\n\\nberekening van de geproratiseerde\\n\\npremie.', 'Dans les entreprises qui sont passées d\\'une\\nautre commission paritaire à celle des\\n\\nparitair comité voor de\\nkleinhande\\\\<>b~~k&?t\"\\nworden omgezet\\nvermeld in artikel 3, § 1 bij collectieve\\narbeidsovereenkomst\\n\\nin evenwaardige voordelen\\n\\ngesloten op bedrijfsvlak.', 'HOOFDSTUK 3 - SLOTBEPALINGEN\\n\\nCHAPITRE 3 - DISPOSITIONS FINALES\\n\\nArtike/4 - Deze collectieve\\narbeidsovereenkomst\\n\\ntreedt\\n\\nin werking op 23\\n\\nnovember 2021 en vervangt collectieve\\narbeidsovereenkomst\\ntot\\nuitvoering van het sectorakkoord\\n(142002/CO/311).']\n",
      "\n",
      "\n",
      "\n"
     ]
    }
   ],
   "source": [
    "\n",
    "### Main function\n",
    "\n",
    "search_words = 'premie', 'jaarlijkse','december', 'betaald', 'betaalbaar',  'collectieve', 'arbeidsovereenkomst', 'betreffende', 'commission','paritair', 'bedienden', 'bedrijfstoeslag', 'arbeidsovereenkomst'\n",
    "\n",
    "## Get text. \n",
    "pd_data_311 = pd.read_csv(r\"C:\\Users\\Olga\\Becode_Olga\\KPMG-Team-3\\data_csv\\B.2.\\jc_311_0.csv\")\n",
    "rows = [18,2,11]\n",
    "for i in rows:\n",
    "    text = pd_data_311['pdf_text'].iloc[18]  #jaarlijkse premie\n",
    "    context = get_context(text, search_words)\n",
    "    print(context)\n",
    "    print('\\n\\n')"
   ]
  }
 ],
 "metadata": {
  "kernelspec": {
   "display_name": "Python 3",
   "language": "python",
   "name": "python3"
  },
  "language_info": {
   "codemirror_mode": {
    "name": "ipython",
    "version": 3
   },
   "file_extension": ".py",
   "mimetype": "text/x-python",
   "name": "python",
   "nbconvert_exporter": "python",
   "pygments_lexer": "ipython3",
   "version": "3.10.5"
  },
  "orig_nbformat": 4,
  "vscode": {
   "interpreter": {
    "hash": "26de051ba29f2982a8de78e945f0abaf191376122a1563185a90213a26c5da77"
   }
  }
 },
 "nbformat": 4,
 "nbformat_minor": 2
}
